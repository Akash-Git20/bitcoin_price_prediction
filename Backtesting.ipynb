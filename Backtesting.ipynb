{
  "nbformat": 4,
  "nbformat_minor": 0,
  "metadata": {
    "colab": {
      "provenance": [],
      "authorship_tag": "ABX9TyPe1v3nm47a/lqjpKQbxe/Q",
      "include_colab_link": true
    },
    "kernelspec": {
      "name": "python3",
      "display_name": "Python 3"
    },
    "language_info": {
      "name": "python"
    }
  },
  "cells": [
    {
      "cell_type": "markdown",
      "metadata": {
        "id": "view-in-github",
        "colab_type": "text"
      },
      "source": [
        "<a href=\"https://colab.research.google.com/github/Akash-Git20/bitcoin_price_prediction/blob/main/Backtesting.ipynb\" target=\"_parent\"><img src=\"https://colab.research.google.com/assets/colab-badge.svg\" alt=\"Open In Colab\"/></a>"
      ]
    },
    {
      "cell_type": "code",
      "execution_count": 1,
      "metadata": {
        "id": "CK5L00Ib_vWc"
      },
      "outputs": [],
      "source": [
        "import yfinance as yf\n",
        "import os\n",
        "import pandas as pd\n",
        "from datetime import datetime as dt\n",
        "import matplotlib.pyplot as plt\n",
        "import seaborn as sns\n",
        "import pytz\n",
        "from sklearn.ensemble import RandomForestClassifier\n",
        "from sklearn.metrics import precision_score"
      ]
    },
    {
      "cell_type": "code",
      "source": [
        "tz = pytz.timezone(\"America/New_York\")\n",
        "start = tz.localize(dt(2014,1,1))\n",
        "end = tz.localize(dt.today())\n",
        "tickers = \"BTC-USD\"\n",
        "df = yf.download(tickers,start, end, auto_adjust=True)"
      ],
      "metadata": {
        "colab": {
          "base_uri": "https://localhost:8080/"
        },
        "id": "ZINIBRWi_xpp",
        "outputId": "751509e2-a110-4b19-f1c5-eb4703302be4"
      },
      "execution_count": 2,
      "outputs": [
        {
          "output_type": "stream",
          "name": "stdout",
          "text": [
            "\r[*********************100%%**********************]  1 of 1 completed\n"
          ]
        }
      ]
    },
    {
      "cell_type": "code",
      "source": [
        "df.index = pd.to_datetime(df.index)\n",
        "df[\"Tomorrow\"] = df[\"Close\"].shift(-1)\n",
        "df[\"Target\"] = (df[\"Tomorrow\"] > df[\"Close\"]).astype(int)"
      ],
      "metadata": {
        "id": "AIsyCUgw_1Vp"
      },
      "execution_count": 3,
      "outputs": []
    },
    {
      "cell_type": "code",
      "source": [
        "def predict(train, test, predictors, model):\n",
        "  model.fit(train[predictors], train[\"Target\"])\n",
        "  preds = model.predict(test[predictors])\n",
        "  preds = pd.Series(preds, index=test.index, name=\"Predictions\")\n",
        "  combined = pd.concat([test[\"Target\"], preds], axis=1)\n",
        "  return combined"
      ],
      "metadata": {
        "id": "9aJbT4-N_6ve"
      },
      "execution_count": 4,
      "outputs": []
    },
    {
      "cell_type": "code",
      "source": [
        "def get_precision_score(arr):\n",
        "  return precision_score(arr[\"Target\"], arr[\"Predictions\"])"
      ],
      "metadata": {
        "id": "zs85O8zM_9D4"
      },
      "execution_count": 5,
      "outputs": []
    },
    {
      "cell_type": "code",
      "source": [
        "train = df.iloc[:-200]\n",
        "test = df.iloc[-200:]"
      ],
      "metadata": {
        "id": "iXTPVjc4AASB"
      },
      "execution_count": 6,
      "outputs": []
    },
    {
      "cell_type": "code",
      "source": [
        "from sklearn.linear_model import LogisticRegression\n",
        "logisticModel = LogisticRegression(random_state=0)"
      ],
      "metadata": {
        "id": "jnnJsnh4AC7h"
      },
      "execution_count": 7,
      "outputs": []
    },
    {
      "cell_type": "code",
      "source": [
        "from sklearn.ensemble import RandomForestClassifier\n",
        "modelRF = RandomForestClassifier(n_estimators = 50, min_samples_split=50, random_state=1)"
      ],
      "metadata": {
        "id": "kXqHkMdbEzLd"
      },
      "execution_count": 8,
      "outputs": []
    },
    {
      "cell_type": "code",
      "source": [
        "from xgboost import XGBClassifier\n",
        "modelXGB = XGBClassifier(random_state = 1, learning_rate = .1, n_estimators=200)"
      ],
      "metadata": {
        "id": "lyomPeXNBzst"
      },
      "execution_count": 19,
      "outputs": []
    },
    {
      "cell_type": "code",
      "source": [
        "predictors = [\"Close\", \"High\", \"Low\", \"Open\", \"Volume\"]"
      ],
      "metadata": {
        "id": "IWrOudybAqJ9"
      },
      "execution_count": 10,
      "outputs": []
    },
    {
      "cell_type": "code",
      "source": [
        "def backtest(data, model, predictors, start = 1050, step = 150):\n",
        "  all_predictions = []\n",
        "  for i in range(start, data.shape[0], step):\n",
        "    train = data.iloc[0:i].copy()\n",
        "    test = data.iloc[i:(i + step)].copy()\n",
        "    predictions = predict(train, test, predictors, model)\n",
        "    all_predictions.append(predictions)\n",
        "  return pd.concat(all_predictions)"
      ],
      "metadata": {
        "id": "u4f3jxaMAd4C"
      },
      "execution_count": 9,
      "outputs": []
    },
    {
      "cell_type": "code",
      "source": [
        "predictions_RF = backtest(train, model, predictors)"
      ],
      "metadata": {
        "id": "y0nibFZPAlBs"
      },
      "execution_count": 17,
      "outputs": []
    },
    {
      "cell_type": "code",
      "source": [
        "get_precision_score(predictions_RF)"
      ],
      "metadata": {
        "colab": {
          "base_uri": "https://localhost:8080/"
        },
        "id": "RVPek98EBpMt",
        "outputId": "4f07ab81-06bc-4dfd-b931-36a523934431"
      },
      "execution_count": 18,
      "outputs": [
        {
          "output_type": "execute_result",
          "data": {
            "text/plain": [
              "0.49754500818330605"
            ]
          },
          "metadata": {},
          "execution_count": 18
        }
      ]
    },
    {
      "cell_type": "code",
      "source": [
        "predictions_LR = backtest(train, logisticModel, predictors)"
      ],
      "metadata": {
        "id": "I0dAg9yVBO8P"
      },
      "execution_count": 15,
      "outputs": []
    },
    {
      "cell_type": "code",
      "source": [
        "get_precision_score(predictions_LR)"
      ],
      "metadata": {
        "colab": {
          "base_uri": "https://localhost:8080/"
        },
        "id": "GQGE-9wNA-Af",
        "outputId": "b6df530c-b117-4621-d1f2-629c5a262fdf"
      },
      "execution_count": 16,
      "outputs": [
        {
          "output_type": "execute_result",
          "data": {
            "text/plain": [
              "0.5202863961813843"
            ]
          },
          "metadata": {},
          "execution_count": 16
        }
      ]
    },
    {
      "cell_type": "code",
      "source": [
        "predictions_XGB = backtest(train, modelXGB, predictors)"
      ],
      "metadata": {
        "id": "DvCZYtUmB2P9"
      },
      "execution_count": 20,
      "outputs": []
    },
    {
      "cell_type": "code",
      "source": [
        "get_precision_score(predictions_XGB)"
      ],
      "metadata": {
        "colab": {
          "base_uri": "https://localhost:8080/"
        },
        "id": "FTrhsjWUCER8",
        "outputId": "8e858506-45ae-4bbe-c1f7-c987a921b428"
      },
      "execution_count": 21,
      "outputs": [
        {
          "output_type": "execute_result",
          "data": {
            "text/plain": [
              "0.5143769968051118"
            ]
          },
          "metadata": {},
          "execution_count": 21
        }
      ]
    }
  ]
}