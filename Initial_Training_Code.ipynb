{
  "nbformat": 4,
  "nbformat_minor": 0,
  "metadata": {
    "colab": {
      "provenance": [],
      "authorship_tag": "ABX9TyMVN5tfh7GKIPvYdjnOgawL",
      "include_colab_link": true
    },
    "kernelspec": {
      "name": "python3",
      "display_name": "Python 3"
    },
    "language_info": {
      "name": "python"
    }
  },
  "cells": [
    {
      "cell_type": "markdown",
      "metadata": {
        "id": "view-in-github",
        "colab_type": "text"
      },
      "source": [
        "<a href=\"https://colab.research.google.com/github/Akash-Git20/bitcoin_price_prediction/blob/main/Initial_Training_Code.ipynb\" target=\"_parent\"><img src=\"https://colab.research.google.com/assets/colab-badge.svg\" alt=\"Open In Colab\"/></a>"
      ]
    },
    {
      "cell_type": "code",
      "execution_count": 8,
      "metadata": {
        "id": "QsPFL2EyEZq8"
      },
      "outputs": [],
      "source": [
        "import yfinance as yf\n",
        "import os\n",
        "import pandas as pd\n",
        "from datetime import datetime as dt\n",
        "import matplotlib.pyplot as plt\n",
        "import seaborn as sns\n",
        "import pytz\n",
        "from sklearn.ensemble import RandomForestClassifier\n",
        "from sklearn.metrics import precision_score"
      ]
    },
    {
      "cell_type": "code",
      "source": [
        "tz = pytz.timezone(\"America/New_York\")\n",
        "start = tz.localize(dt(2014,1,1))\n",
        "end = tz.localize(dt.today())\n",
        "tickers = \"BTC-USD\"\n",
        "df = yf.download(tickers,start, end, auto_adjust=True)"
      ],
      "metadata": {
        "colab": {
          "base_uri": "https://localhost:8080/"
        },
        "id": "wtHs6VkTEgwA",
        "outputId": "ce153be5-3ed1-4790-8c04-bf57efbfd5a1"
      },
      "execution_count": 2,
      "outputs": [
        {
          "output_type": "stream",
          "name": "stdout",
          "text": [
            "\r[*********************100%%**********************]  1 of 1 completed\n"
          ]
        }
      ]
    },
    {
      "cell_type": "code",
      "source": [
        "df.index = pd.to_datetime(df.index)\n",
        "df[\"Tomorrow\"] = df[\"Close\"].shift(-1)\n",
        "df[\"Target\"] = (df[\"Tomorrow\"] > df[\"Close\"]).astype(int)"
      ],
      "metadata": {
        "id": "VA2up53tErIS"
      },
      "execution_count": 3,
      "outputs": []
    },
    {
      "cell_type": "code",
      "source": [
        "from sklearn.ensemble import RandomForestClassifier\n",
        "model = RandomForestClassifier(n_estimators = 50, min_samples_split=50, random_state=1)"
      ],
      "metadata": {
        "id": "kXqHkMdbEzLd"
      },
      "execution_count": 4,
      "outputs": []
    },
    {
      "cell_type": "code",
      "source": [
        "from sklearn.linear_model import LogisticRegression\n",
        "logisticModel = LogisticRegression(random_state=0)"
      ],
      "metadata": {
        "id": "sIG_G7nPTUPY"
      },
      "execution_count": 44,
      "outputs": []
    },
    {
      "cell_type": "code",
      "source": [
        "train = df.iloc[:-200]\n",
        "test = df.iloc[-200:]"
      ],
      "metadata": {
        "id": "L3RU8LOPH7_D"
      },
      "execution_count": 16,
      "outputs": []
    },
    {
      "cell_type": "code",
      "source": [
        "predictors = [\"Close\", \"High\", \"Low\", \"Open\", \"Volume\"]"
      ],
      "metadata": {
        "id": "68zzQRsrE3qg"
      },
      "execution_count": 45,
      "outputs": []
    },
    {
      "cell_type": "code",
      "source": [
        "def get_precision_score(arr):\n",
        "  return precision_score(arr[\"Target\"], arr[\"Predictions\"])"
      ],
      "metadata": {
        "id": "dAU_Aka6E6AQ"
      },
      "execution_count": 47,
      "outputs": []
    },
    {
      "cell_type": "code",
      "source": [
        "def predict(train, test, predictors, model):\n",
        "  model.fit(train[predictors], train[\"Target\"])\n",
        "  preds = model.predict(test[predictors])\n",
        "  preds = pd.Series(preds, index=test.index, name=\"Predictions\")\n",
        "  combined = pd.concat([test[\"Target\"], preds], axis=1)\n",
        "  return combined"
      ],
      "metadata": {
        "id": "blhCx57GE872"
      },
      "execution_count": 10,
      "outputs": []
    },
    {
      "cell_type": "code",
      "source": [
        "predictions = predict(train, test, predictors, model)\n",
        "print(get_precision_score(predictions))"
      ],
      "metadata": {
        "colab": {
          "base_uri": "https://localhost:8080/"
        },
        "id": "F5Jpd2isG82R",
        "outputId": "850f79a6-24af-4dce-9b43-5e997992e088"
      },
      "execution_count": 51,
      "outputs": [
        {
          "output_type": "stream",
          "name": "stdout",
          "text": [
            "0.47770700636942676\n"
          ]
        }
      ]
    },
    {
      "cell_type": "code",
      "source": [
        "predictions1 = predict(train, test, predictors, logisticModel)\n",
        "print(get_precision_score(predictions1))"
      ],
      "metadata": {
        "colab": {
          "base_uri": "https://localhost:8080/"
        },
        "id": "N6EKlrtTZpqX",
        "outputId": "bffb5a0e-8dc1-47eb-899a-454aee7a3e83"
      },
      "execution_count": 50,
      "outputs": [
        {
          "output_type": "stream",
          "name": "stdout",
          "text": [
            "0.47\n"
          ]
        }
      ]
    }
  ]
}